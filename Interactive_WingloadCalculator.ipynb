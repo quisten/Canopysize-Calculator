{
 "cells": [
  {
   "cell_type": "markdown",
   "metadata": {},
   "source": [
    "# Interactive Prototype of Canopy Lookup Tool (CLT)\n"
   ]
  },
  {
   "cell_type": "code",
   "execution_count": 3,
   "metadata": {},
   "outputs": [],
   "source": [
    "# Init Notebook\n",
    "from ipywidgets import Layout, interact\n",
    "\n",
    "import json\n",
    "from random import randint\n",
    "\n",
    "# Load Canopy Tables\n",
    "with open(\"NLF.json\", \"r\") as fin:\n",
    "    rec_NLF = json.load(fin)\n",
    "with open('BrianGermain.json', 'r') as fin:\n",
    "    rec_Brian = json.load(fin)\n",
    "\n",
    "J_SVANHOLM = [\"Du har sett på muligheten av påsying av en annen warninglabel, for eksempel en SA2 170, dermed slipper HI alt ansvar og sier du trodde det var en rolig skjerm.\",\n",
    "              \"Du drømmer fortsatt om linesus og søkkvåte småjenter på landingsfeltet som omfavner deg når du går som den skygoden du er mot pakkeområdet!\",\n",
    "              \"Få HI til å signere på et blankt ark.\",\n",
    "              \"Dispsøknader gjør seg best på seddler.\",\n",
    "              \"Søk på grunnlag av at skjermen subber i bakken når du går til hangar og den er litt stor å pakke\",\n",
    "              \"Du treng disp på skjerm, kausjonist på boliglån åsså tenkt du å ta ut I3 i samme slengen.\"]\n",
    "\n",
    "# Define LooupFunctions 1. NLF 2. Brian G 3. Jorgen S\n",
    "\n",
    "def adviceNLF(exitWeightKG, numberOfJumps):\n",
    "    indexFromWeight = int(max(0, exitWeightKG-60)/5)    # Column \n",
    "    rowIndex = [x for x in rec_NLF.keys() if int(x)-numberOfJumps > -1][0]\n",
    "\n",
    "    # Don't ask for more info, just display requirement for all recommendation\n",
    "    print(\"NLF Part 1 | Appendix 100: Regulation of Canopy sizes:\")\n",
    "    for reqKey in rec_NLF[rowIndex].keys():\n",
    "        if \"2\" in reqKey:\n",
    "            print(\"\\tMinimum Licence: %s and Completion of the Advanced Canopy Course\" % reqKey) \n",
    "        else:\n",
    "            print(\"\\tMinimum Licence: %s\" % reqKey)\n",
    "        \n",
    "        #print(\"%s %s %s\" % (rowIndex, reqKey, indexFromWeight))\n",
    "        canopySize = rec_NLF[rowIndex][reqKey][indexFromWeight]\n",
    "        wingLoad = exitWeightKG*2.20462/canopySize\n",
    "        print(\"\\tMinimum Allowable Canopysize (NLF): %d sqft @ WL %.2f\\n\" % (canopySize, wingLoad))\n",
    "\n",
    "def adviceBG(exitWeightKG, numberOfJumps):\n",
    "    \n",
    "    print(\"Advice From Brian Germain\")\n",
    "    # Early Out\n",
    "    if numberOfJumps > 499:\n",
    "        print(\"\\tBeyond 500 jumps: After a canopy pilot has exceeded 500 jumps, the only\")\n",
    "        print(\"\\tlimitation on wingloading, size and planform is to be based on the Specific\")\n",
    "        print(\"\\tCanopy Manufacturer’s Recommendations for that design and of the Safety and\")\n",
    "        print(\"\\tTraining Advisor or equivalent instructional staff.\\n\")\n",
    "        return\n",
    "\n",
    "    IndexX = [110, 121, 132, 143, 154, 165, 176, 187, 198, 209, 220, 232, 243, 254, 265] # Weight In LBS\n",
    "    rowIndex = [x for x in rec_Brian.keys() if int(x)-numberOfJumps > -1][0]\n",
    "    columnIndex = [i for i,x in enumerate(IndexX) if x-exitWeightKG*2.20462 > -1][0]\n",
    "\n",
    "    for reqKey in rec_Brian[rowIndex].keys(): \n",
    "        \n",
    "        canopySize = rec_Brian[rowIndex][reqKey][columnIndex]\n",
    "        wingLoad = (exitWeightKG*2.20462)/int(canopySize)\n",
    "\n",
    "        if reqKey == \"Mid\":\n",
    "            print(\"\\tRecommended size is %s sqft @ WL %.2f\\n\" % (canopySize, wingLoad))\n",
    "        else:\n",
    "            print(\"\\tMinimum size is %s sqft @ WL %.2f\\n\" % (canopySize, wingLoad))\n",
    "\n",
    "def adviceJS(exitWeight):\n",
    "\n",
    "    print(\"Advice From Joergen Svanholm\")\n",
    "    \n",
    "    canopySize = randint(67, 92)\n",
    "    validReason = J_SVANHOLM[randint(0, 5)]\n",
    "    wingLoad = (exitWeight*2.20462)/int(canopySize)\n",
    "\n",
    "\n",
    "    print(\"\\tAnbefalt skjermstørrelse: %d sqft @ WL %.2f\\n\\t%s\" % (canopySize, wingLoad, validReason))\n",
    "\n",
    "    "
   ]
  },
  {
   "cell_type": "code",
   "execution_count": 4,
   "metadata": {},
   "outputs": [
    {
     "data": {
      "application/vnd.jupyter.widget-view+json": {
       "model_id": "b6b148558cc94fb3aa99347c277bd3ef",
       "version_major": 2,
       "version_minor": 0
      },
      "text/plain": [
       "interactive(children=(IntSlider(value=80, description='pilotWeight', max=120, min=40), IntSlider(value=15, des…"
      ]
     },
     "metadata": {},
     "output_type": "display_data"
    }
   ],
   "source": [
    "# import ipywidgets.interact class, this class will represent a slide bar.\n",
    "\n",
    "@interact(pilotWeight=(40, 120), gearWeight=(10, 20), numberOfJumps=(0, 1001), layout=Layout(width='%50') )\n",
    "\n",
    "def GetAdvice(pilotWeight,gearWeight, numberOfJumps):\n",
    "    \n",
    "    # Compute Exit Weight\n",
    "    exitWeight = (pilotWeight+gearWeight)\n",
    "    if exitWeight > 125:\n",
    "        print(\"Exit Weight Exceeds 125kg which is the maximum of recommended tables.\")\n",
    "        return \n",
    "\n",
    "    # Print Advices\n",
    "    adviceNLF(exitWeight, numberOfJumps)\n",
    "    adviceBG(exitWeight, numberOfJumps)\n",
    "    adviceJS(exitWeight)"
   ]
  }
 ],
 "metadata": {
  "kernelspec": {
   "display_name": "Python 3.9.5",
   "language": "python",
   "name": "python3"
  },
  "language_info": {
   "codemirror_mode": {
    "name": "ipython",
    "version": 3
   },
   "file_extension": ".py",
   "mimetype": "text/x-python",
   "name": "python",
   "nbconvert_exporter": "python",
   "pygments_lexer": "ipython3",
   "version": "3.9.5"
  },
  "orig_nbformat": 4,
  "vscode": {
   "interpreter": {
    "hash": "e175beb6702d07b96c42a15bf36f44881cfb54cdafbec77dd5a8bb1a5d8f80d9"
   }
  }
 },
 "nbformat": 4,
 "nbformat_minor": 2
}
