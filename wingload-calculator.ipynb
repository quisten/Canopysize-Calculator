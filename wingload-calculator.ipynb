{
 "cells": [
  {
   "cell_type": "markdown",
   "metadata": {},
   "source": [
    "# Prototyping Code For Computation of Wingload and Lookup of CanopySize Rules"
   ]
  },
  {
   "cell_type": "code",
   "execution_count": 237,
   "metadata": {},
   "outputs": [],
   "source": [
    "# User Input\n",
    "\n",
    "pilotWeight = 90          # [kg]] [slider]\n",
    "gearWeight = 10            # [kg]\n",
    "numberOfJumps = 230\n",
    "\n",
    "wingSize = 120 # sqf. \n",
    "\n",
    "\n",
    "\n",
    "# Compute gear Weight if gearWeight == 0(jumpsuit, helmet, camera, rig++)\n",
    "# 10kg below suggested 150\n",
    "# 15kg above suggested 150 "
   ]
  },
  {
   "cell_type": "code",
   "execution_count": 238,
   "metadata": {},
   "outputs": [
    {
     "name": "stdout",
     "output_type": "stream",
     "text": [
      "[59, 63, 67, 72, 76, 80, 84, 89, 93, 97, 101, 105, 110, 114]\n"
     ]
    }
   ],
   "source": [
    "# Look up arrays\n",
    "WL_skill = {1.0:\"Beginner\", 1.35: \"Novice\", 1.8:\"Expert\", 2.3:\"Skygod\", 3.5: \"Competitive Swooper\", 5.0:\"Reckless\"}\n",
    "\n",
    "# Based on https://nlf.readin.no/doc/100-vedlegg-1-bestemmelser-for-skjermstorrelse-1/id33477ac4\n",
    "# Last updated 5th April 2022\n",
    "\n",
    "\n",
    "weight = [x+10 for x in range(60, 130, 5)]\n",
    "highWLSize = [int((x*2.20462)/2.6) for x in weight]\n",
    "print(highWLSize)\n",
    "\n",
    "# Weights                  60,  65,  70,  75,  80,  85,  90,  95,  100, 105, 110, 115, 120, 125 \n",
    "NLF_Rules = {20:  { \"E\" : [190, 190, 190, 190, 190, 210, 210, 230, 230, 250, 250, 250, 270, 270] },\n",
    "             100: { \"A\" : [160, 160, 170, 180, 180, 190, 190, 190, 190, 210, 210, 230, 230, 240] },\n",
    "             200: { \"B\" : [140, 140, 150, 160, 160, 170, 170, 170, 170, 190, 190, 210, 210, 220] },\n",
    "             400: { \"B\" : [130, 135, 140, 150, 150, 160, 160, 160, 160, 170, 170, 190, 190, 200], \n",
    "                    \"B2\": [117, 120, 124, 127, 129, 134, 139, 144, 150, 158, 165, 174, 178, 185] },\n",
    "             600: { \"B\" : [120, 125, 130, 140, 140, 150, 150, 150, 150, 160, 160, 170, 180, 190],\n",
    "                    \"C2\": [109, 111, 114, 117, 117, 120, 124, 128, 132, 140, 145, 154, 165, 170]}, \n",
    "             800: { \"B\" : [110, 115, 120, 125, 130, 135, 135, 140, 140, 150, 150, 160, 160, 170], \n",
    "                    \"C2\": [100, 100, 104, 107, 109, 114, 117, 120, 124, 128, 132, 140, 145, 150]},\n",
    "            1000: { \"B\" : [105, 105, 110, 115, 120, 125, 125, 130, 130, 140, 140, 150, 150, 160],\n",
    "                    \"C2\": [ 96,  96,  99,  99,  99, 104, 107, 109, 112, 117, 119, 124, 129, 135]},\n",
    "            1200: { \"C\" : [ 85,  85,  90,  90,  90,  95, 100, 100, 105, 110, 110, 115, 120, 125]},\n",
    "            1500: { \"C\" : highWLSize},\n",
    "            9999: { \"C\" : [  0,   0,   0,   0,   0,   0,   0,   0,   0,   0,   0,   0,   0,   0]}}"
   ]
  },
  {
   "cell_type": "code",
   "execution_count": 239,
   "metadata": {},
   "outputs": [
    {
     "name": "stdout",
     "output_type": "stream",
     "text": [
      "1.8371833333333332\n",
      "Skygod\n",
      "\n",
      "Minimum Licence: B\n",
      "400 B 8\n",
      "Minimum Allowable Canopysize (NLF): 160 sqft\n",
      "\n",
      "\n",
      "Minimum Licence: B2\n",
      "Requires Certification from Advanced Canopy Course\n",
      "400 B2 8\n",
      "Minimum Allowable Canopysize (NLF): 150 sqft\n",
      "\n"
     ]
    }
   ],
   "source": [
    "# Compute Wingload \n",
    "wingLoad = ((pilotWeight+gearWeight)*2.20462)/wingSize\n",
    "listKey = [x for x in WL_skill.keys() if wingLoad < x][0]\n",
    "print(wingLoad)\n",
    "print(WL_skill[listKey])\n",
    "\n",
    "# Look-up code for NLF Table\n",
    "indexFromWeight = int(max(0, (pilotWeight+gearWeight)-60)/5)    # Column \n",
    "rowIndex = [x for x in NLF_Rules.keys() if x-numberOfJumps > -1][0]\n",
    "\n",
    "\n",
    "# Don't ask for more info, just display requirement for all recommendation\n",
    "for reqKey in NLF_Rules[rowIndex].keys():\n",
    "    print(\"\\nMinimum Licence: %s\" % reqKey)\n",
    "    if \"2\" in reqKey:\n",
    "        print(\"Requires Certification from Advanced Canopy Course\")   \n",
    "\n",
    "    print(\"%d %s %d\" % (rowIndex, reqKey, indexFromWeight))\n",
    "    print(\"Minimum Allowable Canopysize (NLF): %d sqft\\n\" % NLF_Rules[rowIndex][reqKey][indexFromWeight])"
   ]
  },
  {
   "cell_type": "code",
   "execution_count": 240,
   "metadata": {},
   "outputs": [],
   "source": [
    "\n",
    "                #LBS 110\t121\t132\t143\t154\t165\t176\t187\t198\t209\t220\t232\t243\t254\t265\n",
    "\n",
    "import csv\n",
    "IndexY = [1,20,40,60,80,100,120,140,160,180,200,220,240,260,280,300,320,340,360,380,400,420,440,460,480,499]\n",
    "IndexX = [110, 121, 132, 143, 154, 165, 176, 187, 198, 209, 220, 232, 243, 254, 265]\n",
    "Req = [\"Mid\", \"Min\"]\n",
    "BG_Table = dict() \n",
    "\n",
    "with open(\"Images/BG_Table3.csv\", \"r\", encoding='UTF-8') as fin:\n",
    "    table = csv.reader(fin, delimiter=\",\")\n",
    "    for i, row in enumerate(table):\n",
    "        jumps = IndexY[int(i/2.0)]\n",
    "        skill = Req[i%2]\n",
    "        if jumps in BG_Table.keys():\n",
    "            BG_Table[jumps][skill] = row\n",
    "        else:\n",
    "            BG_Table[jumps] = {skill: row}\n",
    "\n",
    "#print(BG_Table)"
   ]
  },
  {
   "cell_type": "code",
   "execution_count": 241,
   "metadata": {},
   "outputs": [
    {
     "name": "stdout",
     "output_type": "stream",
     "text": [
      "Mid 190\n",
      "Min 168\n"
     ]
    }
   ],
   "source": [
    "\n",
    "#rint(BG_Table.keys())\n",
    "#print(numberOfJumps)\n",
    "rowIndex = [x for x in BG_Table.keys() if int(x)-numberOfJumps > -1][0]\n",
    "weightLBS = (pilotWeight+gearWeight)*2.20462\n",
    "columnIndex = [i for i,x in enumerate(IndexX) if x-weightLBS > -1][0]\n",
    "#print(weightLBS)\n",
    "#print(rowIndex, columnIndex)\n",
    "\n",
    "for reqKey in BG_Table[rowIndex].keys(): \n",
    "    print(reqKey, BG_Table[rowIndex][reqKey][columnIndex])\n",
    "\n"
   ]
  },
  {
   "cell_type": "code",
   "execution_count": 242,
   "metadata": {},
   "outputs": [
    {
     "name": "stdout",
     "output_type": "stream",
     "text": [
      "Anbefalt skjermstørrelse: 69 sqft - Få HI til å signere på et blankt ark.\n"
     ]
    }
   ],
   "source": [
    "J_SVANHOLM = [\"Du har sett på muligheten av påsying av en annen warninglabel, for eksempel en SA2 170, dermed slipper HI alt ansvar og sier du trodde det var en rolig skjerm.\",\n",
    "              \"Du drømmer fortsatt om linesus og søkkvåte småjenter på landingsfeltet som omfavner deg når du går som den skygoden du er mot pakkeområdet!\",\n",
    "              \"Få HI til å signere på et blankt ark.\",\n",
    "              \"Dispsøknader gjør seg best på seddler.\",\n",
    "              \"Søk på grunnlag av at skjermen subber i bakken når du går til hangar og den er litt stor å pakke\",\n",
    "              \"Du treng disp på skjerm, kausjonist på boliglån åsså tenkt du å ta ut I3 i samme slengen.\"]\n",
    "\n",
    "import random\n",
    "\n",
    "canopySize = random.randint(67, 92)\n",
    "validReason = J_SVANHOLM[random.randint(0, 5)]\n",
    "\n",
    "print(\"Anbefalt skjermstørrelse: %d sqft - %s\" % (canopySize,validReason))\n"
   ]
  },
  {
   "cell_type": "code",
   "execution_count": 247,
   "metadata": {},
   "outputs": [],
   "source": [
    "# Serialize Databases - Save as JSON files to avoid harcoding for later apps. \n",
    "\n",
    "import json\n",
    "\n",
    "#print(json.dumps(NLF_Rules))\n",
    "#print(json.dumps(BG_Table))\n",
    "\n",
    "with open(\"NLF.json\", \"w\") as fout:\n",
    "    json.dump(NLF_Rules, fout, indent=4)\n",
    "\n",
    "with open(\"BrianGermain.json\", \"w\") as fout:\n",
    "    json.dump(BG_Table, fout, indent=4)"
   ]
  }
 ],
 "metadata": {
  "kernelspec": {
   "display_name": "Python 3.9.5",
   "language": "python",
   "name": "python3"
  },
  "language_info": {
   "codemirror_mode": {
    "name": "ipython",
    "version": 3
   },
   "file_extension": ".py",
   "mimetype": "text/x-python",
   "name": "python",
   "nbconvert_exporter": "python",
   "pygments_lexer": "ipython3",
   "version": "3.9.5"
  },
  "orig_nbformat": 4,
  "vscode": {
   "interpreter": {
    "hash": "e175beb6702d07b96c42a15bf36f44881cfb54cdafbec77dd5a8bb1a5d8f80d9"
   }
  }
 },
 "nbformat": 4,
 "nbformat_minor": 2
}
